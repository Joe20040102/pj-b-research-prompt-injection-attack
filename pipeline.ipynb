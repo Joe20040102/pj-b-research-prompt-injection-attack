{
 "cells": [
  {
   "cell_type": "code",
   "execution_count": 1,
   "metadata": {},
   "outputs": [],
   "source": [
    "import os\n",
    "import pandas as pd"
   ]
  },
  {
   "cell_type": "markdown",
   "metadata": {},
   "source": [
    "### Step 1\n",
    "`src.prompt_creator.create_prompt` モジュールを使用して、実験に使用するプロンプトを生成する。"
   ]
  },
  {
   "cell_type": "code",
   "execution_count": null,
   "metadata": {},
   "outputs": [],
   "source": [
    "from src.prompt_creator.create_prompt import PromptCreator"
   ]
  },
  {
   "cell_type": "code",
   "execution_count": 3,
   "metadata": {},
   "outputs": [],
   "source": [
    "prompt_dir = \"data/prompt_output\""
   ]
  },
  {
   "cell_type": "code",
   "execution_count": null,
   "metadata": {},
   "outputs": [],
   "source": [
    "promptcreator = PromptCreator(\"NLI\", \"SA\", 100)\n",
    "\n",
    "for method in [\"combined-attack\", \"context-ignoring\", \"escape-characters\", \"fake-completion\", \"naive-attack\"]:\n",
    "    os.makedirs(os.path.join(prompt_dir, method), exist_ok=True)\n",
    "    prompt= promptcreator.create_prompt(method)\n",
    "    prompt_df = pd.DataFrame(prompt)\n",
    "    prompt_df.to_csv(os.path.join(prompt_dir, method, f\"NLI_SA_100.csv\"), index=False)"
   ]
  },
  {
   "cell_type": "markdown",
   "metadata": {},
   "source": [
    "### Step 2\n",
    "`src.llm_processor.llm_processor` モジュールを使用して、LLMに回答を出力させる"
   ]
  },
  {
   "cell_type": "code",
   "execution_count": null,
   "metadata": {},
   "outputs": [],
   "source": [
    "from src.llm_processor.llm_processor import LLM"
   ]
  },
  {
   "cell_type": "code",
   "execution_count": 3,
   "metadata": {},
   "outputs": [],
   "source": [
    "llm_input_dir = \"data/prompt_output\"\n",
    "llm_output_dir = \"data/llm_output\""
   ]
  },
  {
   "cell_type": "code",
   "execution_count": null,
   "metadata": {},
   "outputs": [],
   "source": [
    "for model in [\"gemini-1.5-flash\", \"gemini-1.5-pro\"]:\n",
    "    llm = LLM(provider=\"gemini\", model=model)\n",
    "    for method in [\"combined-attack\", \"context-ignoring\", \"escape-characters\", \"fake-completion\", \"naive-attack\"]:\n",
    "        print(f\"Processing {model} {method}\")\n",
    "        os.makedirs(os.path.join(llm_output_dir, model, method), exist_ok=True)\n",
    "        prompt = pd.read_csv(os.path.join(llm_input_dir, method, \"NLI_SA_100.csv\"))\n",
    "        llm_output = llm.create_llm_outputs(prompt)\n",
    "        llm_output.to_csv(os.path.join(llm_output_dir, model, method, f\"NLI_SA_100.csv\"), index=False)"
   ]
  },
  {
   "cell_type": "markdown",
   "metadata": {},
   "source": [
    "### Step 3\n",
    "`src.evaluator.attack_benchmark` を用いて攻撃の評価をする"
   ]
  },
  {
   "cell_type": "code",
   "execution_count": 2,
   "metadata": {},
   "outputs": [],
   "source": [
    "from src.evaluator.attack_benchmark import (\n",
    "    asv,\n",
    "    mr,\n",
    "    pna\n",
    ")"
   ]
  },
  {
   "cell_type": "code",
   "execution_count": 3,
   "metadata": {},
   "outputs": [],
   "source": [
    "llm_output_dir = \"data/llm_output\"\n",
    "results_dir = \"output\""
   ]
  },
  {
   "cell_type": "code",
   "execution_count": null,
   "metadata": {},
   "outputs": [],
   "source": [
    "for model in [\"gemini-1.5-flash\", \"gemini-1.5-pro\"]:\n",
    "    for method in [\"combined-attack\", \"context-ignoring\", \"escape-characters\", \"fake-completion\", \"naive-attack\"]:\n",
    "        os.makedirs(os.path.join(results_dir, model, method), exist_ok=True)\n",
    "        print(f\"Evaluating {model} {method}\")\n",
    "        \n",
    "        llm_output_df = pd.read_csv(os.path.join(llm_output_dir, model, method, \"NLI_SA_100.csv\"))\n",
    "        output_df = pd.DataFrame()\n",
    "        output_df[\"ASV\"] = asv.asv(llm_output_df)[\"ASV\"]\n",
    "        output_df[\"MR\"] = mr.mr(llm_output_df)[\"MR\"]\n",
    "        pna_df = pna.pna(llm_output_df)\n",
    "        output_df[\"PNA-T\"] = pna_df[\"PNA-T\"]\n",
    "        output_df[\"PNA-I\"] = pna_df[\"PNA-I\"]\n",
    "        \n",
    "        output_df.to_csv(os.path.join(results_dir, model, method, \"NLI_SA_100.csv\"), index=False)"
   ]
  },
  {
   "cell_type": "code",
   "execution_count": null,
   "metadata": {},
   "outputs": [],
   "source": []
  }
 ],
 "metadata": {
  "kernelspec": {
   "display_name": ".venv",
   "language": "python",
   "name": "python3"
  },
  "language_info": {
   "codemirror_mode": {
    "name": "ipython",
    "version": 3
   },
   "file_extension": ".py",
   "mimetype": "text/x-python",
   "name": "python",
   "nbconvert_exporter": "python",
   "pygments_lexer": "ipython3",
   "version": "3.12.6"
  }
 },
 "nbformat": 4,
 "nbformat_minor": 2
}

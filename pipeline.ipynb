{
 "cells": [
  {
   "cell_type": "code",
   "execution_count": 18,
   "metadata": {},
   "outputs": [],
   "source": [
    "import os\n",
    "import pandas as pd\n",
    "from pprint import pprint\n",
    "from dataclasses import dataclass"
   ]
  },
  {
   "cell_type": "code",
   "execution_count": 21,
   "metadata": {},
   "outputs": [
    {
     "name": "stdout",
     "output_type": "stream",
     "text": [
      "PipelineConfig(prompt_dir='data/prompt_output',\n",
      "               llm_output_dir='data/llm_output',\n",
      "               result_dir='data/result',\n",
      "               target_tasks=('NLI', 'SA'),\n",
      "               provider='gemini',\n",
      "               models=('gemini-1.5-flash', 'gemini-1.5-pro'),\n",
      "               example_num=100)\n"
     ]
    }
   ],
   "source": [
    "@dataclass\n",
    "class PipelineConfig:\n",
    "    prompt_dir: str = \"data/prompt_output\"\n",
    "    llm_output_dir: str = \"data/llm_output\"\n",
    "    result_dir: str = \"data/result\"\n",
    "    target_tasks: list = (\"NLI\", \"SA\")\n",
    "    provider: str = \"gemini\"\n",
    "    models: str = (\"gemini-1.5-flash\", \"gemini-1.5-pro\")\n",
    "    example_num: int = 100\n",
    "\n",
    "\n",
    "pipeline_config = PipelineConfig()\n",
    "\n",
    "pprint(pipeline_config, indent=4)"
   ]
  },
  {
   "cell_type": "markdown",
   "metadata": {},
   "source": [
    "### Step 1\n",
    "`src.prompt_creator.create_prompt` モジュールを使用して、実験に使用するプロンプトを生成する。"
   ]
  },
  {
   "cell_type": "code",
   "execution_count": 2,
   "metadata": {},
   "outputs": [
    {
     "name": "stderr",
     "output_type": "stream",
     "text": [
      "/Users/satoujouichirou/Repositories/pj-b-research-prompt-injection-attack/.venv/lib/python3.12/site-packages/tqdm/auto.py:21: TqdmWarning: IProgress not found. Please update jupyter and ipywidgets. See https://ipywidgets.readthedocs.io/en/stable/user_install.html\n",
      "  from .autonotebook import tqdm as notebook_tqdm\n"
     ]
    }
   ],
   "source": [
    "from src.prompt_creator.create_prompt import PromptCreator"
   ]
  },
  {
   "cell_type": "code",
   "execution_count": 6,
   "metadata": {},
   "outputs": [
    {
     "name": "stdout",
     "output_type": "stream",
     "text": [
      "target task: NLI, injected task: NLI, example_num: 100\n",
      "target task: NLI, injected task: NLI, example_num: 100\n",
      "target task: NLI, injected task: NLI, example_num: 100\n",
      "target task: NLI, injected task: NLI, example_num: 100\n",
      "target task: NLI, injected task: NLI, example_num: 100\n"
     ]
    }
   ],
   "source": [
    "promptcreator = PromptCreator(\"NLI\", \"NLI\", 100)\n",
    "\n",
    "for method in [\"combined-attack\", \"context-ignoring\", \"escape-characters\", \"fake-completion\", \"naive-attack\"]:\n",
    "    os.makedirs(os.path.join(pipeline_config.prompt_dir, method), exist_ok=True)\n",
    "    prompt= promptcreator.create_prompt(method)\n",
    "    prompt_df = pd.DataFrame(prompt)\n",
    "    prompt_df.to_csv(os.path.join(pipeline_config.prompt_dir, method, f\"NLI_NLI_100.csv\"), index=False)"
   ]
  },
  {
   "cell_type": "markdown",
   "metadata": {},
   "source": [
    "### Step 2\n",
    "`src.llm_processor.llm_processor` モジュールを使用して、LLMに回答を出力させる"
   ]
  },
  {
   "cell_type": "code",
   "execution_count": 7,
   "metadata": {},
   "outputs": [],
   "source": [
    "from src.llm_processor.llm_processor import LLM"
   ]
  },
  {
   "cell_type": "code",
   "execution_count": 8,
   "metadata": {},
   "outputs": [],
   "source": [
    "llm_input_dir = \"data/prompt_output\"\n",
    "llm_output_dir = \"data/llm_output\""
   ]
  },
  {
   "cell_type": "code",
   "execution_count": 13,
   "metadata": {},
   "outputs": [
    {
     "name": "stdout",
     "output_type": "stream",
     "text": [
      "Processing gemini-1.5-flash combined-attack\n",
      "Processing gemini-1.5-flash context-ignoring\n",
      "Processing gemini-1.5-flash escape-characters\n",
      "Processing gemini-1.5-flash fake-completion\n",
      "Processing gemini-1.5-flash naive-attack\n",
      "Processing gemini-1.5-pro combined-attack\n",
      "Processing gemini-1.5-pro context-ignoring\n",
      "Processing gemini-1.5-pro escape-characters\n",
      "Processing gemini-1.5-pro fake-completion\n",
      "Processing gemini-1.5-pro naive-attack\n"
     ]
    }
   ],
   "source": [
    "for model in [\"gemini-1.5-flash\", \"gemini-1.5-pro\"]:\n",
    "    llm = LLM(provider=\"gemini\", model=model)\n",
    "    for method in [\"combined-attack\", \"context-ignoring\", \"escape-characters\", \"fake-completion\", \"naive-attack\"]:\n",
    "        print(f\"Processing {model} {method}\")\n",
    "        os.makedirs(os.path.join(llm_output_dir, model, method), exist_ok=True)\n",
    "        prompt = pd.read_csv(os.path.join(llm_input_dir, method, \"NLI_NLI_100.csv\"))\n",
    "        llm_output = llm.create_llm_outputs(prompt)\n",
    "        llm_output.to_csv(os.path.join(llm_output_dir, model, method, f\"NLI_NLI_100.csv\"), index=False)"
   ]
  },
  {
   "cell_type": "markdown",
   "metadata": {},
   "source": [
    "### Step 3\n",
    "`src.evaluator.attack_benchmark` を用いて攻撃の評価をする"
   ]
  },
  {
   "cell_type": "code",
   "execution_count": 22,
   "metadata": {},
   "outputs": [],
   "source": [
    "from src.evaluator.attack_benchmark import (\n",
    "    asv,\n",
    "    mr,\n",
    "    pna\n",
    ")"
   ]
  },
  {
   "cell_type": "code",
   "execution_count": 16,
   "metadata": {},
   "outputs": [],
   "source": [
    "llm_output_dir = \"data/llm_output\"\n",
    "results_dir = \"output\""
   ]
  },
  {
   "cell_type": "code",
   "execution_count": 17,
   "metadata": {},
   "outputs": [
    {
     "name": "stdout",
     "output_type": "stream",
     "text": [
      "Evaluating gemini-1.5-flash combined-attack\n",
      "Evaluating gemini-1.5-flash context-ignoring\n",
      "Evaluating gemini-1.5-flash escape-characters\n",
      "Evaluating gemini-1.5-flash fake-completion\n",
      "Evaluating gemini-1.5-flash naive-attack\n",
      "Evaluating gemini-1.5-pro combined-attack\n",
      "Evaluating gemini-1.5-pro context-ignoring\n",
      "Evaluating gemini-1.5-pro escape-characters\n",
      "Evaluating gemini-1.5-pro fake-completion\n",
      "Evaluating gemini-1.5-pro naive-attack\n"
     ]
    }
   ],
   "source": [
    "for model in [\"gemini-1.5-flash\", \"gemini-1.5-pro\"]:\n",
    "    for method in [\"combined-attack\", \"context-ignoring\", \"escape-characters\", \"fake-completion\", \"naive-attack\"]:\n",
    "        os.makedirs(os.path.join(results_dir, model, method), exist_ok=True)\n",
    "        print(f\"Evaluating {model} {method}\")\n",
    "        \n",
    "        llm_output_df = pd.read_csv(os.path.join(llm_output_dir, model, method, \"NLI_NLI_100.csv\"))\n",
    "        output_df = pd.DataFrame()\n",
    "        output_df[\"ASV\"] = asv.asv(llm_output_df)[\"ASV\"]\n",
    "        output_df[\"MR\"] = mr.mr(llm_output_df)[\"MR\"]\n",
    "        pna_df = pna.pna(llm_output_df)\n",
    "        output_df[\"PNA-T\"] = pna_df[\"PNA-T\"]\n",
    "        output_df[\"PNA-I\"] = pna_df[\"PNA-I\"]\n",
    "        \n",
    "        output_df.to_csv(os.path.join(results_dir, model, method, \"NLI_NLI_100.csv\"), index=False)"
   ]
  },
  {
   "cell_type": "code",
   "execution_count": null,
   "metadata": {},
   "outputs": [],
   "source": []
  }
 ],
 "metadata": {
  "kernelspec": {
   "display_name": ".venv",
   "language": "python",
   "name": "python3"
  },
  "language_info": {
   "codemirror_mode": {
    "name": "ipython",
    "version": 3
   },
   "file_extension": ".py",
   "mimetype": "text/x-python",
   "name": "python",
   "nbconvert_exporter": "python",
   "pygments_lexer": "ipython3",
   "version": "3.12.6"
  }
 },
 "nbformat": 4,
 "nbformat_minor": 2
}
